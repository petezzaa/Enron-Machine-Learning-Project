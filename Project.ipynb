{
 "cells": [
  {
   "cell_type": "markdown",
   "metadata": {},
   "source": [
    "# Project:  Identify Fraud from Enron Email\n",
    "-----"
   ]
  },
  {
   "cell_type": "code",
   "execution_count": 15,
   "metadata": {},
   "outputs": [
    {
     "data": {
      "text/html": [
       "<script>\n",
       "code_show=true; \n",
       "function code_toggle() {\n",
       " if (code_show){\n",
       " $('div.input').hide();\n",
       " } else {\n",
       " $('div.input').show();\n",
       " }\n",
       " code_show = !code_show\n",
       "} \n",
       "$( document ).ready(code_toggle);\n",
       "</script>\n",
       "The raw code for this IPython notebook is by default hidden for easier reading.\n",
       "To toggle on/off the raw code, click <a href=\"javascript:code_toggle()\">here</a>."
      ],
      "text/plain": [
       "<IPython.core.display.HTML object>"
      ]
     },
     "execution_count": 15,
     "metadata": {},
     "output_type": "execute_result"
    }
   ],
   "source": [
    "from IPython.display import HTML\n",
    "\n",
    "HTML('''<script>\n",
    "code_show=true; \n",
    "function code_toggle() {\n",
    " if (code_show){\n",
    " $('div.input').hide();\n",
    " } else {\n",
    " $('div.input').show();\n",
    " }\n",
    " code_show = !code_show\n",
    "} \n",
    "$( document ).ready(code_toggle);\n",
    "</script>\n",
    "The raw code for this IPython notebook is by default hidden for easier reading.\n",
    "To toggle on/off the raw code, click <a href=\"javascript:code_toggle()\">here</a>.''')"
   ]
  },
  {
   "cell_type": "markdown",
   "metadata": {},
   "source": [
    "## Understanding the Dataset"
   ]
  },
  {
   "cell_type": "markdown",
   "metadata": {},
   "source": [
    "*Summarize for us the goal of this project and how machine learning is useful in trying to accomplish it. As part of your answer, give some background on the dataset and how it can be used to answer the project question. Were there any outliers in the data when you got it, and how did you handle those?*"
   ]
  },
  {
   "cell_type": "markdown",
   "metadata": {},
   "source": [
    "> In 2000, Enron was one of the largest companies in the United States. By 2002, it had collapsed into bankruptcy due to widespread corporate fraud. In the resulting Federal investigation, a significant amount of typically confidential information entered into the public record, including tens of thousands of emails and detailed financial data for top executives."
   ]
  },
  {
   "cell_type": "markdown",
   "metadata": {
    "collapsed": true
   },
   "source": [
    "The goal of this project will be to use publicly available data released from the Federal investigation into fraud at Enron, and use it to create a person of interest identifier.  This identifier will use email and financial data from Enron executives to try and find individuals who are persons of interest (POI).  For the purpose of this project, a POI is defined as an employee who was indicted, reached a settlement or plea deal with the government, or testified in exchange for prosecution immunity.\n",
    "\n",
    "To accomplish the goal of creating a POI identifier, I will be utilizing machine learning algorithms.  What makes machine learning useful is its ability to quickly learn from a dataset and then categorize or make predictions on data the machine has never seen before, which is exactly what we need to create our POI identifier."
   ]
  },
  {
   "cell_type": "markdown",
   "metadata": {},
   "source": [
    "### Data Exploration"
   ]
  },
  {
   "cell_type": "markdown",
   "metadata": {},
   "source": [
    "Before we get started creating our POI identifier, let's examine the data.  A selection of data characteristics are listed below:"
   ]
  },
  {
   "cell_type": "code",
   "execution_count": 16,
   "metadata": {},
   "outputs": [
    {
     "name": "stdout",
     "output_type": "stream",
     "text": [
      "Size of Enron Dataset: 146\n",
      "Number of features for each person: 21\n",
      "Number of POI's: 18\n",
      "Number of Non-POI's 128\n",
      "People with quantifiable salaries: 95\n",
      "POI's with quantifiable salaries: 17\n",
      "People with known email addresses: 111\n",
      "POI's with known email addresses: 18\n",
      "Number of people with NaN for total payments: 21\n",
      "Number of POI's with NaN for total payments: 0\n"
     ]
    }
   ],
   "source": [
    "import pickle\n",
    "\n",
    "enron_data = pickle.load(open(\"../final_project/final_project_dataset.pkl\", \"r\"))\n",
    "\n",
    "print 'Size of Enron Dataset:', len(enron_data)\n",
    "\n",
    "print \"Number of features for each person:\", len(enron_data[\"SKILLING JEFFREY K\"])\n",
    "\n",
    "count = 0\n",
    "for person in enron_data:\n",
    "    if enron_data[person]['poi'] == 1:\n",
    "        count +=1\n",
    "\n",
    "print \"Number of POI's:\", count\n",
    "      \n",
    "print \"Number of Non-POI's\", len(enron_data) - count\n",
    "\n",
    "sal_count = 0\n",
    "for person in enron_data:\n",
    "    if enron_data[person]['salary'] != 'NaN':\n",
    "        sal_count += 1\n",
    "\n",
    "print \"People with quantifiable salaries:\", sal_count\n",
    "\n",
    "poi_sal_count = 0\n",
    "for person in enron_data:\n",
    "    if (enron_data[person]['salary'] != 'NaN' and enron_data[person]['poi'] == 1):\n",
    "        poi_sal_count += 1\n",
    "\n",
    "print \"POI's with quantifiable salaries:\", poi_sal_count\n",
    "        \n",
    "email_count = 0\n",
    "for person in enron_data:\n",
    "    if enron_data[person]['email_address'] != 'NaN':\n",
    "        email_count += 1\n",
    "\n",
    "print \"People with known email addresses:\", email_count\n",
    "\n",
    "poi_email_count = 0\n",
    "for person in enron_data:\n",
    "    if (enron_data[person]['email_address'] != 'NaN' and enron_data[person]['poi'] == 1):\n",
    "        poi_email_count += 1\n",
    "\n",
    "print \"POI's with known email addresses:\", poi_email_count\n",
    "\n",
    "tot_pay_nan_count = 0\n",
    "for person in enron_data:\n",
    "    if enron_data[person]['total_payments'] == 'NaN':\n",
    "        tot_pay_nan_count += 1\n",
    "\n",
    "print 'Number of people with NaN for total payments:', tot_pay_nan_count\n",
    "\n",
    "poi_tot_pay_nan_count = 0\n",
    "for person in enron_data:\n",
    "    if (enron_data[person]['total_payments'] == 'NaN' and enron_data[person]['poi']):\n",
    "        poi_tot_pay_nan_count += 1\n",
    "\n",
    "print \"Number of POI's with NaN for total payments:\", poi_tot_pay_nan_count"
   ]
  },
  {
   "cell_type": "markdown",
   "metadata": {},
   "source": [
    "There are **146** data points with **21** different features (**14** financial features, **6** email features, and **1** label to indicate POI's) included for each point.  **18** of these points are POI's."
   ]
  },
  {
   "cell_type": "markdown",
   "metadata": {
    "collapsed": true
   },
   "source": [
    "### Outlier Investigation"
   ]
  },
  {
   "cell_type": "markdown",
   "metadata": {},
   "source": [
    "Next let's look to see if their are any outliers by looking at the data for salaries and bonuses."
   ]
  },
  {
   "cell_type": "code",
   "execution_count": 17,
   "metadata": {},
   "outputs": [
    {
     "name": "stdout",
     "output_type": "stream",
     "text": [
      "Potential Outliers:\n",
      "LAY KENNETH L\n",
      "SKILLING JEFFREY K\n",
      "TOTAL\n"
     ]
    },
    {
     "data": {
      "image/png": "[encoded data removed]",
      "text/plain": [
       "<matplotlib.figure.Figure at 0xc00ee48>"
      ]
     },
     "metadata": {},
     "output_type": "display_data"
    }
   ],
   "source": [
    "import sys\n",
    "import matplotlib.pyplot as plt\n",
    "import seaborn as sns\n",
    "import pandas as pd\n",
    "import numpy as np\n",
    "%matplotlib inline\n",
    "sys.path.append(\"../tools/\")\n",
    "from feature_format import featureFormat, targetFeatureSplit\n",
    "\n",
    "data_dict = pickle.load( open(\"../final_project/final_project_dataset.pkl\", \"r\") )\n",
    "\n",
    "def enron_outliers(f1, f2, total = None):\n",
    "    '''Plot features from dataframe and list potential outliers for bonus and salary.'''\n",
    "    \n",
    "    if total == 'remove':\n",
    "        #remove 'TOTAL' from dictionary\n",
    "        data_dict.pop('TOTAL', 0)\n",
    "\n",
    "    #convert data_dict to pandas df\n",
    "    df = pd.DataFrame.from_records(list(data_dict.values()))\n",
    "    employees = pd.Series(list(data_dict.keys()))\n",
    "    df.set_index(employees, inplace=True)\n",
    "    new_features_list = df.columns.values\n",
    "    \n",
    "    #scatterplot of salary and bonus\n",
    "    plt.scatter(df[f1], df[f2], alpha = 0.5, c = df['poi'], cmap=plt.cm.RdBu)\n",
    "    plt.xlabel(f1)\n",
    "    plt.ylabel(f2)\n",
    "    plt.show\n",
    "\n",
    "    print \"Potential Outliers:\"\n",
    "    for employee in data_dict:\n",
    "        if (data_dict[employee]['salary'] != 'NaN') and  \\\n",
    "                (data_dict[employee]['bonus'] != 'NaN'):\n",
    "            if (data_dict[employee]['salary'] > 1000000) and (data_dict[employee]['bonus'] > 5000000):\n",
    "                print(employee)\n",
    "\n",
    "enron_outliers('salary', 'bonus')"
   ]
  },
  {
   "cell_type": "markdown",
   "metadata": {},
   "source": [
    "Looking at the above scatterplot there is one combination of salary and bonus that is significantly higher than all the others which means it could be an outlier.  To check what data points this could be let's print all executives with salary above \\$1,000,000 and bonus above $5,000,000.  Of our potential outliers, the first two are **LAY KENNETH L** and **SKILLING JEFFREY K**, the former chairman and CEO of Enron respectively, as well as persons of interest, so they will left in the dataset.  However, the last potential outlier is **TOTAL** which represents the total salary and bonuses of every person in the dataset.  Since this information will not help us create our POI identifier, I removed them from the dataset.  The data without the outlier has been plotted below."
   ]
  },
  {
   "cell_type": "code",
   "execution_count": 18,
   "metadata": {},
   "outputs": [
    {
     "name": "stdout",
     "output_type": "stream",
     "text": [
      "Potential Outliers:\n",
      "LAY KENNETH L\n",
      "SKILLING JEFFREY K\n"
     ]
    },
    {
     "data": {
      "image/png": "[encoded data removed]",
      "text/plain": [
       "<matplotlib.figure.Figure at 0xc1ee9b0>"
      ]
     },
     "metadata": {},
     "output_type": "display_data"
    }
   ],
   "source": [
    "enron_outliers('salary', 'bonus', total = 'remove')"
   ]
  },
  {
   "cell_type": "markdown",
   "metadata": {},
   "source": [
    "Next, I wanted to find and remove data points with all or nearly all missing data as well as try to find mistakes in the data."
   ]
  },
  {
   "cell_type": "code",
   "execution_count": 19,
   "metadata": {},
   "outputs": [
    {
     "name": "stdout",
     "output_type": "stream",
     "text": [
      "LOCKHART EUGENE E\n",
      "{'salary': 'NaN', 'to_messages': 'NaN', 'deferral_payments': 'NaN', 'total_payments': 'NaN', 'exercised_stock_options': 'NaN', 'bonus': 'NaN', 'restricted_stock': 'NaN', 'shared_receipt_with_poi': 'NaN', 'restricted_stock_deferred': 'NaN', 'total_stock_value': 'NaN', 'expenses': 'NaN', 'loan_advances': 'NaN', 'from_messages': 'NaN', 'other': 'NaN', 'from_this_person_to_poi': 'NaN', 'poi': False, 'director_fees': 'NaN', 'deferred_income': 'NaN', 'long_term_incentive': 'NaN', 'email_address': 'NaN', 'from_poi_to_this_person': 'NaN'}\n",
      "\n",
      "THE TRAVEL AGENCY IN THE PARK\n"
     ]
    }
   ],
   "source": [
    "#Find employees with the most missing data\n",
    "for name in data_dict:\n",
    "    nan_count = 0\n",
    "    data_point = data_dict[name]\n",
    "    for feature in data_point:\n",
    "        if data_point[feature] == 'NaN':\n",
    "            nan_count += 1\n",
    "    if nan_count > 18:\n",
    "        print name\n",
    "        print data_point\n",
    "    if (len(name.split()) < 2 or len(name.split()) > 4):\n",
    "        print ''\n",
    "        print name"
   ]
  },
  {
   "cell_type": "code",
   "execution_count": 20,
   "metadata": {},
   "outputs": [],
   "source": [
    "#Remove Eugene Lockhart and THE TRAVEL AGENCY IN THE PARK from data_dict\n",
    "del data_dict['LOCKHART EUGENE E']\n",
    "del data_dict['THE TRAVEL AGENCY IN THE PARK']"
   ]
  },
  {
   "cell_type": "markdown",
   "metadata": {},
   "source": [
    "I was able to find and remove one data point, **Eugene E. Lockhart**, that had missing data for all features except for the POI feature.  I also found an employee with the name **THE TRAVEL AGENCY IN THE PARK** which I assume has been included by mistake, so I removed that data point as well."
   ]
  },
  {
   "cell_type": "markdown",
   "metadata": {},
   "source": [
    "## Optimize Feature Selection/Engineering"
   ]
  },
  {
   "cell_type": "markdown",
   "metadata": {},
   "source": [
    "*What features did you end up using in your POI identifier, and what selection process did you use to pick them? Did you have to do any scaling? Why or why not? As part of the assignment, you should attempt to engineer your own feature that does not come ready-made in the dataset -- explain what feature you tried to make, and the rationale behind it. (You do not necessarily have to use it in the final analysis, only engineer and test it.) In your feature selection step, if you used an algorithm like a decision tree, please also give the feature importances of the features that you use, and if you used an automated feature selection function like SelectKBest, please report the feature scores and reasons for your choice of parameter values.*"
   ]
  },
  {
   "cell_type": "markdown",
   "metadata": {},
   "source": [
    "### Engineering New Features"
   ]
  },
  {
   "cell_type": "markdown",
   "metadata": {},
   "source": [
    "In addition to the existing features, I decided to create three new ones:\n",
    "\n",
    "- **fraction_to_poi** - The proportion of a person's sent emails that were sent to a POI\n",
    "- **fraction_from_poi** - The proportion of a person's receieved emails that were sent from a POI \n",
    "- **fraction_exercised_stock** - The proportion of a person's exercised stock options vs. their total stock\n",
    "\n",
    "The idea behind creating the first two features is that POI's may email other POI's at higher rates than non-POI's.  Therefore, these features can be used to identify whether an employee shared the majority of their emails with POI's.\n",
    "\n",
    "Similarly, the final feature was made with the intuition that POI's may have higher amounts of exercised stock options when compared to their total stock options."
   ]
  },
  {
   "cell_type": "code",
   "execution_count": 21,
   "metadata": {
    "collapsed": true
   },
   "outputs": [],
   "source": [
    "def computeFraction( poi_messages, all_messages ):\n",
    "    \"\"\" given a number messages to/from POI (numerator) \n",
    "        and number of all messages to/from a person (denominator),\n",
    "        return the fraction of messages to/from that person\n",
    "        that are from/to a POI\n",
    "   \"\"\"\n",
    "\n",
    "    if (poi_messages == \"NaN\" or all_messages == \"NaN\"):\n",
    "        fraction = 0\n",
    "    else:\n",
    "        fraction = float(poi_messages) / float(all_messages)\n",
    "\n",
    "    return fraction\n",
    "\n",
    "for name in data_dict:\n",
    "\n",
    "    data_point = data_dict[name]\n",
    "\n",
    "    from_poi_to_this_person = data_point[\"from_poi_to_this_person\"]\n",
    "    to_messages = data_point[\"to_messages\"]\n",
    "    fraction_from_poi = computeFraction( from_poi_to_this_person, to_messages )\n",
    "    data_point[\"fraction_from_poi\"] = fraction_from_poi\n",
    "\n",
    "\n",
    "    from_this_person_to_poi = data_point[\"from_this_person_to_poi\"]\n",
    "    from_messages = data_point[\"from_messages\"]\n",
    "    fraction_to_poi = computeFraction( from_this_person_to_poi, from_messages )\n",
    "    data_point[\"fraction_to_poi\"] = fraction_to_poi\n",
    "    \n",
    "    \n",
    "    exercised_stock_options = data_point['exercised_stock_options']\n",
    "    total_stock_value = data_point['total_stock_value']\n",
    "    fraction_exercised_stock = computeFraction( exercised_stock_options, total_stock_value)\n",
    "    data_point['fraction_exercised_stock'] = fraction_exercised_stock"
   ]
  },
  {
   "cell_type": "code",
   "execution_count": 22,
   "metadata": {},
   "outputs": [],
   "source": [
    "features_list = ['poi','salary', 'deferral_payments', 'total_payments', 'loan_advances', 'bonus', 'restricted_stock_deferred', \n",
    "                 'deferred_income', 'total_stock_value', 'expenses', 'exercised_stock_options', 'other', \n",
    "                 'long_term_incentive', 'restricted_stock', 'director_fees', 'shared_receipt_with_poi', \"fraction_from_poi\", \n",
    "                 \"fraction_to_poi\", 'fraction_exercised_stock'] \n",
    "\n",
    "#split labels and features\n",
    "data = featureFormat(data_dict, features_list)\n",
    "labels, features = targetFeatureSplit(data)"
   ]
  },
  {
   "cell_type": "markdown",
   "metadata": {},
   "source": [
    "### Feature Selection"
   ]
  },
  {
   "cell_type": "markdown",
   "metadata": {},
   "source": [
    "In order to pare down the number of features, univariate feature selection was done using sci-kit learn's *SelectKBest* algorithm.  I decided to manually choose the number of 'k' features by trying all the different values of k (e.g. k = 2, k = 3, k = 4, k = 5, ... , k = 'all') and finding the one which provided the best evaluation metrics when I ran the POI identifier.  It turns out that k = 9 and k = 10 were the best values of k to use and provided identical results.  I decided to use k = 9 to keep things simple."
   ]
  },
  {
   "cell_type": "code",
   "execution_count": 23,
   "metadata": {},
   "outputs": [],
   "source": [
    "from sklearn.feature_selection import SelectKBest\n",
    "from sklearn.naive_bayes import GaussianNB\n",
    "from sklearn.pipeline import Pipeline\n",
    "\n",
    "skb = SelectKBest(k = 9)\n",
    "gnb = GaussianNB()\n",
    "pipeline = Pipeline(steps = [('skb', skb), ('gnb', gnb)])\n",
    "pipeline.fit(features, labels)\n",
    "\n",
    "#indices for features chosen by SelectKBest\n",
    "skb_feat_index = skb.get_support(indices = True)\n",
    "#Make a dictionary of features with their scores\n",
    "my_features_score = {}\n",
    "for i in skb_feat_index:\n",
    "    my_features_score[features_list[i + 1]] = skb.scores_[i]\n",
    "#print my_features_score\n",
    "\n",
    "my_features_list = my_features_score.keys()\n",
    "my_features_list.insert(0, 'poi')\n",
    "#print my_features_list"
   ]
  },
  {
   "cell_type": "markdown",
   "metadata": {},
   "source": [
    "|feature|score|\n",
    "|-------|-----|\n",
    "|restricted_stock_deferred|24.82|\n",
    "|loan_advances|24.18|\n",
    "|total_payments|20.79|\n",
    "|salary|18.29|\n",
    "|bonus| 16.41|\n",
    "|deferred_income|11.46|\n",
    "|expenses|9.92|\n",
    "|total_stock_value| 9.21|\n",
    "|deferral_payments|8.77|"
   ]
  },
  {
   "cell_type": "markdown",
   "metadata": {},
   "source": [
    "Above is a table of the 10 features given by *SelectKBest* along with their scores.  As it turns out, none of the engineered features ended up in the top 10, which I found surprising."
   ]
  },
  {
   "cell_type": "markdown",
   "metadata": {},
   "source": [
    "### Feature Scaling"
   ]
  },
  {
   "cell_type": "markdown",
   "metadata": {},
   "source": [
    "Feauture scaling of the data was not necessary as PCA was not performed.  In addition, the machine learning algorithms I decided to use (Gaussian Naive Bayes and Random Forest) do not require scaling as explained by this [forum post](https://discussions.udacity.com/t/when-would-we-not-use-feature-scaling/290523/2).  To summarize, the Naive Bayes algorithm does not require feature scaling because it generates probabilities for each feature individually, assuming no correlation between any of the features.  The Decision Trees used in Random Forests also do not require feature scaling since tree splits are based on each feature and are independent of one another."
   ]
  },
  {
   "cell_type": "markdown",
   "metadata": {},
   "source": [
    "## Pick and Tune an Algorithm"
   ]
  },
  {
   "cell_type": "markdown",
   "metadata": {},
   "source": [
    "*What algorithm did you end up using? What other one(s) did you try? How did model performance differ between algorithms?*"
   ]
  },
  {
   "cell_type": "markdown",
   "metadata": {},
   "source": [
    "### Pick an Algorithm"
   ]
  },
  {
   "cell_type": "markdown",
   "metadata": {},
   "source": [
    "The first algorithm I decided to try was Naive Bayes and the second was a Random Forest Classifier."
   ]
  },
  {
   "cell_type": "code",
   "execution_count": 24,
   "metadata": {},
   "outputs": [
    {
     "name": "stdout",
     "output_type": "stream",
     "text": [
      "Naive Bayes\n",
      "accuracy: 0.933333333333\n",
      "Classification Report:\n",
      "             precision    recall  f1-score   support\n",
      "\n",
      "    Non-POI       1.00      0.92      0.96        13\n",
      "        POI       0.67      1.00      0.80         2\n",
      "\n",
      "avg / total       0.96      0.93      0.94        15\n",
      "\n"
     ]
    }
   ],
   "source": [
    "from sklearn.metrics import accuracy_score, classification_report\n",
    "from sklearn.cross_validation import StratifiedShuffleSplit\n",
    "\n",
    "data = featureFormat(data_dict, my_features_list)\n",
    "labels, features = targetFeatureSplit(data)\n",
    "\n",
    "#split training and testing folds\n",
    "cv = StratifiedShuffleSplit(labels, 1000, random_state = 42)\n",
    "    # outer loop, determined by the number of folds\n",
    "for train_idx, test_idx in cv: \n",
    "    features_train = []\n",
    "    features_test  = []\n",
    "    labels_train   = []\n",
    "    labels_test    = []\n",
    "    # inner loop, creates the test/train data\n",
    "    # once for each fold\n",
    "    for ii in train_idx:\n",
    "        features_train.append( features[ii] )\n",
    "        labels_train.append( labels[ii] )\n",
    "    for jj in test_idx:\n",
    "        features_test.append( features[jj] )\n",
    "        labels_test.append( labels[jj] )\n",
    "\n",
    "gnb = GaussianNB()\n",
    "gnb.fit(features_train, labels_train)\n",
    "\n",
    "pred = gnb.predict(features_test)\n",
    "accuracy = accuracy_score(pred, labels_test)\n",
    "print \"Naive Bayes\"\n",
    "print \"accuracy:\",accuracy\n",
    "target_names = [\"Non-POI\", \"POI\"]\n",
    "print \"Classification Report:\" \n",
    "print classification_report(y_true = labels_test, y_pred = pred, target_names = target_names)"
   ]
  },
  {
   "cell_type": "code",
   "execution_count": 25,
   "metadata": {},
   "outputs": [
    {
     "name": "stdout",
     "output_type": "stream",
     "text": [
      "Random Forest\n",
      "accuracy: 0.933333333333\n",
      "Classification Report:\n",
      "             precision    recall  f1-score   support\n",
      "\n",
      "    Non-POI       0.93      1.00      0.96        13\n",
      "        POI       1.00      0.50      0.67         2\n",
      "\n",
      "avg / total       0.94      0.93      0.92        15\n",
      "\n"
     ]
    }
   ],
   "source": [
    "from sklearn.ensemble import RandomForestClassifier\n",
    "\n",
    "clf = RandomForestClassifier(n_estimators = 1000, n_jobs = -1)\n",
    "clf.fit(features_train, labels_train)\n",
    "\n",
    "pred = clf.predict(features_test)\n",
    "accuracy = accuracy_score(pred, labels_test)\n",
    "print \"Random Forest\"\n",
    "print \"accuracy:\",accuracy\n",
    "print \"Classification Report:\" \n",
    "print classification_report(y_true = labels_test, y_pred = pred, target_names = target_names)"
   ]
  },
  {
   "cell_type": "markdown",
   "metadata": {},
   "source": [
    "Comparing evaluation metrics between this classifier and Naive Bayes, the only differences were that average precision, and average f1-score were slightly higher for Naive Bayes, while accuracy and average recall was the same for both algorithms.  That said, since Naive Bayes performed the best of the two, I decided to go with this algorithm to use in the POI identifier."
   ]
  },
  {
   "cell_type": "markdown",
   "metadata": {},
   "source": [
    "### Algorithm Tuning"
   ]
  },
  {
   "cell_type": "markdown",
   "metadata": {},
   "source": [
    "*What does it mean to tune the parameters of an algorithm, and what can happen if you don’t do this well?  How did you tune the parameters of your particular algorithm? What parameters did you tune? (Some algorithms do not have parameters that you need to tune -- if this is the case for the one you picked, identify and briefly explain how you would have done it for the model that was not your final choice or a different model that does utilize parameter tuning, e.g. a decision tree classifier).*"
   ]
  },
  {
   "cell_type": "markdown",
   "metadata": {},
   "source": [
    "Typically, machine learning algorithms will have parameters that need to be set before they can be used.  When one says that they are tuning the parameters of an algorithm, this means that they are testing different parameter values for their algorithm with the goal of indentifying the combination of parameters that provide the optimal evaluation metric that they want to focus on (e.g. accuracy, f1-score).  What can happen if one does not tune the parameters of their algorithm well, is that the algorithm will not provide the optimal evaluation metrics.\n",
    "\n",
    "That said, since the algorithm I chose to use, Gaussian Naive Bayes, does not have parameters I can tune, I decided to tune the Random Forest Classifier which does have parameters I can work with.  Tuning was done using *GridSearchCV* to go through multiple combinations of parameters tunes to find the optimal combination and then return a classifier using these optimal parameter tunes.  The Random Forest paremeters tuned were:\n",
    "\n",
    "- **min_samples_split** - The minimum number of samples required to split an internal node\n",
    "- **max_features** - The number of  features to consider when looking for the best split\n",
    "- **criterion** - Which measure of impurity to use for the decision tree splits"
   ]
  },
  {
   "cell_type": "code",
   "execution_count": 26,
   "metadata": {},
   "outputs": [
    {
     "name": "stdout",
     "output_type": "stream",
     "text": [
      "Random Forest w/ Tuning\n",
      "accuracy: 0.933333333333\n",
      "Classification Report:\n",
      "             precision    recall  f1-score   support\n",
      "\n",
      "    Non-POI       0.93      1.00      0.96        13\n",
      "        POI       1.00      0.50      0.67         2\n",
      "\n",
      "avg / total       0.94      0.93      0.92        15\n",
      "\n",
      "Best Parameters: {'max_features': 'auto', 'min_samples_split': 5, 'criterion': 'entropy'}\n"
     ]
    }
   ],
   "source": [
    "from sklearn.model_selection import GridSearchCV\n",
    "\n",
    "rfc = RandomForestClassifier(n_estimators = 100, n_jobs = -1)\n",
    "parameters = {'min_samples_split':[2, 5, 10, 20],\n",
    "              'max_features':('auto', 'log2'),\n",
    "              'criterion':('gini', 'entropy')\n",
    "             }\n",
    "clf = GridSearchCV(rfc, parameters, n_jobs = -1)\n",
    "clf.fit(features_train, labels_train)\n",
    "\n",
    "pred = clf.predict(features_test)\n",
    "accuracy = accuracy_score(pred, labels_test)\n",
    "print \"Random Forest w/ Tuning\"\n",
    "print \"accuracy:\",accuracy\n",
    "print \"Classification Report:\" \n",
    "print classification_report(y_true = labels_test, y_pred = pred, target_names = target_names)\n",
    "print \"Best Parameters:\",clf.best_params_"
   ]
  },
  {
   "cell_type": "code",
   "execution_count": 27,
   "metadata": {},
   "outputs": [],
   "source": [
    "from tester import dump_classifier_and_data\n",
    "\n",
    "#dump classifier, dictionary of data, and list of features into pkl files\n",
    "dump_classifier_and_data(gnb, data_dict, my_features_list)"
   ]
  },
  {
   "cell_type": "markdown",
   "metadata": {},
   "source": [
    "## Validate and Evaluate"
   ]
  },
  {
   "cell_type": "markdown",
   "metadata": {},
   "source": [
    "*What is validation, and what’s a classic mistake you can make if you do it wrong? How did you validate your analysis?*"
   ]
  },
  {
   "cell_type": "markdown",
   "metadata": {},
   "source": [
    "### Validation"
   ]
  },
  {
   "cell_type": "markdown",
   "metadata": {},
   "source": [
    "Validation is the process of splitting one's data into testing and training sets, and then applying one's algorithm or model on the testing set to gauge how effective the algorithm/model is at making predictions.  A classic mistake when it comes to validation is forgetting to split the data into testing and training sets and using the same data to train and test on.  The problem this creates, is that the algorithm will overfit the data and have high variance.  In other words, this means that the algorithm will be very good at \"memorizing\" how to classify the the dataset given to it, and since the training and testing dataset are the same, it will appear to perform well.  However, if the algorithm is given a new dataset it has never seen before, it will perform poorly since, it is only capable of \"memorizing\" what to do when given the original dataset.  In short, the overfit algorithm will be unable to generalize to new data.\n",
    "\n",
    "Cross-validation was done using *StratifiedShuffleSplit*, which splits the data into training and testing data over 1000 folds.  Using *train_test_split* to split the data into testing and training sets would have posed a problem, as there were a small number of POI's and thus there was a possibility that the POI's would be underrepresented in the training data.  That said, the main advantage of using *StratifiedShuffleSplit* in this case is that it stratified the folds so that the proportion of POI's would be the same in the training dataset as the full dataset."
   ]
  },
  {
   "cell_type": "markdown",
   "metadata": {},
   "source": [
    "### Evaluation and Conclusion"
   ]
  },
  {
   "cell_type": "markdown",
   "metadata": {},
   "source": [
    "*Give at least 2 evaluation metrics and your average performance for each of them.  Explain an interpretation of your metrics that says something human-understandable about your algorithm’s performance.*"
   ]
  },
  {
   "cell_type": "markdown",
   "metadata": {},
   "source": [
    "Two of the evaluation metrics used to assess our algorithm's performance were **precision** and **recall**.  The precision for POI's using Naive Bayes was 0.67 and recall was 1.  What this means is that out of all the people in the dataset labelled by the algorithm as POI's, 67% of them are actually POI's.  Also, out of all the people in the dataset that were truly POI's, 100% of them were correctly labelled by the algorithm as POI's.  What this says is the algorithm was pretty \"aggressive\", since it found all of the POI's but 33% of all the POI's it detected were false dectections.  This could be a problem since we don't want to implicate an innocent person of fraud, however having a high recall and hence detecting the POI's in the dataset were what I wanted to focus on, so I am satisfied with the results.\n",
    "\n",
    "Ideally, I would like to try and improve the precision for POI's, which would be difficult given the current lack of data for POI's.  Perhaps introducing text data from the email corpus could provide more information improve the performance of the POI identifier.  Using text learning could uncover possible words or phrases that appear frequently in emails written by POI's."
   ]
  }
 ],
 "metadata": {
  "kernelspec": {
   "display_name": "Python [conda root]",
   "language": "python",
   "name": "conda-root-py"
  },
  "language_info": {
   "codemirror_mode": {
    "name": "ipython",
    "version": 2
   },
   "file_extension": ".py",
   "mimetype": "text/x-python",
   "name": "python",
   "nbconvert_exporter": "python",
   "pygments_lexer": "ipython2",
   "version": "2.7.13"
  }
 },
 "nbformat": 4,
 "nbformat_minor": 2
}
